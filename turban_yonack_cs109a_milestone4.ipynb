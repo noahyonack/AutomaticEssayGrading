{
 "cells": [
  {
   "cell_type": "markdown",
   "metadata": {},
   "source": [
    "# Milestone #4"
   ]
  },
  {
   "cell_type": "markdown",
   "metadata": {},
   "source": [
    "**Prompt:**\n",
    "\n",
    "For the upcoming milestone, we will build some baseline models with basic features. You are free to explore on your own to investigate which features are useful. Here are some examples to get you started:\n",
    "\n",
    "1. \"meta\" features (e.g. as most of you discovered, essay length seems to be a good indicator of score)\n",
    "2. Essay \"content\" features, where the content is given by the bag-of-words. I.e. Use CountVectorizer or TfidfVectorizer (I recommend TfidfVectorizer) to get a feature vector for each essay\n",
    "3. Prompt content features.\n",
    "4. Combinations of the above.\n",
    "\n",
    "Always be sure to report train/test scores, and feel free to experiment with regularization, ngram size for vectorizers, etc.\n",
    "\n",
    "Note: feature vectors you get from (2) and (3) will be sparse. Therefore in order to combine (2) with (1), you will need to make (1) sparse as well.\n",
    "\n",
    "Let me know if your group wants to meet with me to discuss more in person."
   ]
  }
 ],
 "metadata": {
  "kernelspec": {
   "display_name": "Python 2",
   "language": "python",
   "name": "python2"
  },
  "language_info": {
   "codemirror_mode": {
    "name": "ipython",
    "version": 2
   },
   "file_extension": ".py",
   "mimetype": "text/x-python",
   "name": "python",
   "nbconvert_exporter": "python",
   "pygments_lexer": "ipython2",
   "version": "2.7.10"
  }
 },
 "nbformat": 4,
 "nbformat_minor": 1
}
