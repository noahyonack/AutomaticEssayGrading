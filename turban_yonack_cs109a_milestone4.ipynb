{
 "cells": [
  {
   "cell_type": "markdown",
   "metadata": {},
   "source": [
    "# CS109a Milestone #4/#5"
   ]
  },
  {
   "cell_type": "markdown",
   "metadata": {},
   "source": [
    "## Stephen Turban & Noah Yonack\n",
    "### 11/28/16"
   ]
  },
  {
   "cell_type": "markdown",
   "metadata": {},
   "source": [
    "**Prompt:**\n",
    "\n",
    "For the upcoming milestone, we will build some baseline models with basic features. You are free to explore on your own to investigate which features are useful. Here are some examples to get you started:\n",
    "\n",
    "1. \"meta\" features (e.g. as most of you discovered, essay length seems to be a good indicator of score)\n",
    "2. Essay \"content\" features, where the content is given by the bag-of-words. I.e. Use CountVectorizer or TfidfVectorizer (I recommend TfidfVectorizer) to get a feature vector for each essay\n",
    "3. Prompt content features.\n",
    "4. Combinations of the above.\n",
    "\n",
    "Always be sure to report train/test scores, and feel free to experiment with regularization, ngram size for vectorizers, etc.\n",
    "\n",
    "Note: feature vectors you get from (2) and (3) will be sparse. Therefore in order to combine (2) with (1), you will need to make (1) sparse as well.\n",
    "\n",
    "Let me know if your group wants to meet with me to discuss more in person."
   ]
  },
  {
   "cell_type": "code",
   "execution_count": 3,
   "metadata": {
    "collapsed": false
   },
   "outputs": [],
   "source": [
    "import matplotlib\n",
    "import numpy as np\n",
    "import pandas as pd\n",
    "import matplotlib.pyplot as plt\n",
    "from sklearn.feature_extraction.text import TfidfVectorizer\n",
    "from sklearn.linear_model import LinearRegression\n",
    "from sklearn.decomposition import PCA, SparsePCA\n",
    "from sklearn.cross_validation import KFold, train_test_split\n",
    "from sklearn.linear_model import Lasso, Ridge, SGDRegressor\n",
    "from scipy.stats import spearmanr\n",
    "import sklearn.svm as svm\n",
    "import scipy.sparse\n",
    "%matplotlib inline"
   ]
  },
  {
   "cell_type": "code",
   "execution_count": 5,
   "metadata": {
    "collapsed": false
   },
   "outputs": [
    {
     "data": {
      "text/html": [
       "<div>\n",
       "<table border=\"1\" class=\"dataframe\">\n",
       "  <thead>\n",
       "    <tr style=\"text-align: right;\">\n",
       "      <th></th>\n",
       "      <th>essay_id</th>\n",
       "      <th>essay_set</th>\n",
       "      <th>essay</th>\n",
       "      <th>rater1_domain1</th>\n",
       "      <th>rater2_domain1</th>\n",
       "      <th>rater3_domain1</th>\n",
       "      <th>domain1_score</th>\n",
       "      <th>rater1_domain2</th>\n",
       "      <th>rater2_domain2</th>\n",
       "      <th>domain2_score</th>\n",
       "      <th>...</th>\n",
       "      <th>rater2_trait3</th>\n",
       "      <th>rater2_trait4</th>\n",
       "      <th>rater2_trait5</th>\n",
       "      <th>rater2_trait6</th>\n",
       "      <th>rater3_trait1</th>\n",
       "      <th>rater3_trait2</th>\n",
       "      <th>rater3_trait3</th>\n",
       "      <th>rater3_trait4</th>\n",
       "      <th>rater3_trait5</th>\n",
       "      <th>rater3_trait6</th>\n",
       "    </tr>\n",
       "  </thead>\n",
       "  <tbody>\n",
       "    <tr>\n",
       "      <th>0</th>\n",
       "      <td>1</td>\n",
       "      <td>1</td>\n",
       "      <td>Dear local newspaper, I think effects computer...</td>\n",
       "      <td>4</td>\n",
       "      <td>4</td>\n",
       "      <td>NaN</td>\n",
       "      <td>8</td>\n",
       "      <td>NaN</td>\n",
       "      <td>NaN</td>\n",
       "      <td>NaN</td>\n",
       "      <td>...</td>\n",
       "      <td>NaN</td>\n",
       "      <td>NaN</td>\n",
       "      <td>NaN</td>\n",
       "      <td>NaN</td>\n",
       "      <td>NaN</td>\n",
       "      <td>NaN</td>\n",
       "      <td>NaN</td>\n",
       "      <td>NaN</td>\n",
       "      <td>NaN</td>\n",
       "      <td>NaN</td>\n",
       "    </tr>\n",
       "    <tr>\n",
       "      <th>1</th>\n",
       "      <td>2</td>\n",
       "      <td>1</td>\n",
       "      <td>Dear @CAPS1 @CAPS2, I believe that using compu...</td>\n",
       "      <td>5</td>\n",
       "      <td>4</td>\n",
       "      <td>NaN</td>\n",
       "      <td>9</td>\n",
       "      <td>NaN</td>\n",
       "      <td>NaN</td>\n",
       "      <td>NaN</td>\n",
       "      <td>...</td>\n",
       "      <td>NaN</td>\n",
       "      <td>NaN</td>\n",
       "      <td>NaN</td>\n",
       "      <td>NaN</td>\n",
       "      <td>NaN</td>\n",
       "      <td>NaN</td>\n",
       "      <td>NaN</td>\n",
       "      <td>NaN</td>\n",
       "      <td>NaN</td>\n",
       "      <td>NaN</td>\n",
       "    </tr>\n",
       "  </tbody>\n",
       "</table>\n",
       "<p>2 rows × 28 columns</p>\n",
       "</div>"
      ],
      "text/plain": [
       "   essay_id  essay_set                                              essay  \\\n",
       "0         1          1  Dear local newspaper, I think effects computer...   \n",
       "1         2          1  Dear @CAPS1 @CAPS2, I believe that using compu...   \n",
       "\n",
       "   rater1_domain1  rater2_domain1  rater3_domain1  domain1_score  \\\n",
       "0               4               4             NaN              8   \n",
       "1               5               4             NaN              9   \n",
       "\n",
       "   rater1_domain2  rater2_domain2  domain2_score      ...        \\\n",
       "0             NaN             NaN            NaN      ...         \n",
       "1             NaN             NaN            NaN      ...         \n",
       "\n",
       "   rater2_trait3  rater2_trait4  rater2_trait5  rater2_trait6  rater3_trait1  \\\n",
       "0            NaN            NaN            NaN            NaN            NaN   \n",
       "1            NaN            NaN            NaN            NaN            NaN   \n",
       "\n",
       "   rater3_trait2  rater3_trait3  rater3_trait4  rater3_trait5  rater3_trait6  \n",
       "0            NaN            NaN            NaN            NaN            NaN  \n",
       "1            NaN            NaN            NaN            NaN            NaN  \n",
       "\n",
       "[2 rows x 28 columns]"
      ]
     },
     "execution_count": 5,
     "metadata": {},
     "output_type": "execute_result"
    }
   ],
   "source": [
    "essay_df = pd.read_csv(\"datasets/training_set_rel3.tsv\", delimiter=\"\\t\")\n",
    "essay_df.head(2)"
   ]
  },
  {
   "cell_type": "markdown",
   "metadata": {},
   "source": [
    "Before vectorizing the text, we have a large number of obsvervations and only a few predictors."
   ]
  },
  {
   "cell_type": "code",
   "execution_count": 6,
   "metadata": {
    "collapsed": false
   },
   "outputs": [
    {
     "data": {
      "text/plain": [
       "(12976, 28)"
      ]
     },
     "execution_count": 6,
     "metadata": {},
     "output_type": "execute_result"
    }
   ],
   "source": [
    "essay_df.shape"
   ]
  },
  {
   "cell_type": "markdown",
   "metadata": {},
   "source": [
    "Let's vectorize our text and use the individual words used in essays as predictors. For now, stick to n-grams of size 1 (unigrams)."
   ]
  },
  {
   "cell_type": "code",
   "execution_count": 164,
   "metadata": {
    "collapsed": false
   },
   "outputs": [],
   "source": [
    "vectorizer = TfidfVectorizer(stop_words=\"english\", min_df=4, decode_error=\"ignore\", ngram_range=(1, 1))\n",
    "corpus = essay_df[\"essay\"].values\n",
    "essay_vector = vectorizer.fit_transform(corpus)\n",
    "essay_vector = essay_vector.toarray()"
   ]
  },
  {
   "cell_type": "markdown",
   "metadata": {},
   "source": [
    "Now we have a lot of predictors — 10,000. This means we'll need to use some sort of regularization or feature selection."
   ]
  },
  {
   "cell_type": "code",
   "execution_count": 165,
   "metadata": {
    "collapsed": false
   },
   "outputs": [
    {
     "data": {
      "text/plain": [
       "(12976, 10017)"
      ]
     },
     "execution_count": 165,
     "metadata": {},
     "output_type": "execute_result"
    }
   ],
   "source": [
    "essay_vector.shape"
   ]
  },
  {
   "cell_type": "markdown",
   "metadata": {},
   "source": [
    "Let's also use essay length as a predictor."
   ]
  },
  {
   "cell_type": "code",
   "execution_count": 166,
   "metadata": {
    "collapsed": true
   },
   "outputs": [],
   "source": [
    "# adding an essay length column to the dataframe\n",
    "essay_df[\"essay_length\"] = map(len, essay_df[\"essay\"])"
   ]
  },
  {
   "cell_type": "code",
   "execution_count": 167,
   "metadata": {
    "collapsed": false
   },
   "outputs": [
    {
     "data": {
      "text/html": [
       "<div>\n",
       "<table border=\"1\" class=\"dataframe\">\n",
       "  <thead>\n",
       "    <tr style=\"text-align: right;\">\n",
       "      <th></th>\n",
       "      <th>essay_id</th>\n",
       "      <th>essay_set</th>\n",
       "      <th>essay</th>\n",
       "      <th>rater1_domain1</th>\n",
       "      <th>rater2_domain1</th>\n",
       "      <th>rater3_domain1</th>\n",
       "      <th>domain1_score</th>\n",
       "      <th>rater1_domain2</th>\n",
       "      <th>rater2_domain2</th>\n",
       "      <th>domain2_score</th>\n",
       "      <th>...</th>\n",
       "      <th>rater2_trait4</th>\n",
       "      <th>rater2_trait5</th>\n",
       "      <th>rater2_trait6</th>\n",
       "      <th>rater3_trait1</th>\n",
       "      <th>rater3_trait2</th>\n",
       "      <th>rater3_trait3</th>\n",
       "      <th>rater3_trait4</th>\n",
       "      <th>rater3_trait5</th>\n",
       "      <th>rater3_trait6</th>\n",
       "      <th>essay_length</th>\n",
       "    </tr>\n",
       "  </thead>\n",
       "  <tbody>\n",
       "    <tr>\n",
       "      <th>0</th>\n",
       "      <td>1</td>\n",
       "      <td>1</td>\n",
       "      <td>Dear local newspaper, I think effects computer...</td>\n",
       "      <td>4</td>\n",
       "      <td>4</td>\n",
       "      <td>NaN</td>\n",
       "      <td>8</td>\n",
       "      <td>NaN</td>\n",
       "      <td>NaN</td>\n",
       "      <td>NaN</td>\n",
       "      <td>...</td>\n",
       "      <td>NaN</td>\n",
       "      <td>NaN</td>\n",
       "      <td>NaN</td>\n",
       "      <td>NaN</td>\n",
       "      <td>NaN</td>\n",
       "      <td>NaN</td>\n",
       "      <td>NaN</td>\n",
       "      <td>NaN</td>\n",
       "      <td>NaN</td>\n",
       "      <td>1875</td>\n",
       "    </tr>\n",
       "    <tr>\n",
       "      <th>1</th>\n",
       "      <td>2</td>\n",
       "      <td>1</td>\n",
       "      <td>Dear @CAPS1 @CAPS2, I believe that using compu...</td>\n",
       "      <td>5</td>\n",
       "      <td>4</td>\n",
       "      <td>NaN</td>\n",
       "      <td>9</td>\n",
       "      <td>NaN</td>\n",
       "      <td>NaN</td>\n",
       "      <td>NaN</td>\n",
       "      <td>...</td>\n",
       "      <td>NaN</td>\n",
       "      <td>NaN</td>\n",
       "      <td>NaN</td>\n",
       "      <td>NaN</td>\n",
       "      <td>NaN</td>\n",
       "      <td>NaN</td>\n",
       "      <td>NaN</td>\n",
       "      <td>NaN</td>\n",
       "      <td>NaN</td>\n",
       "      <td>2288</td>\n",
       "    </tr>\n",
       "  </tbody>\n",
       "</table>\n",
       "<p>2 rows × 29 columns</p>\n",
       "</div>"
      ],
      "text/plain": [
       "   essay_id  essay_set                                              essay  \\\n",
       "0         1          1  Dear local newspaper, I think effects computer...   \n",
       "1         2          1  Dear @CAPS1 @CAPS2, I believe that using compu...   \n",
       "\n",
       "   rater1_domain1  rater2_domain1  rater3_domain1  domain1_score  \\\n",
       "0               4               4             NaN              8   \n",
       "1               5               4             NaN              9   \n",
       "\n",
       "   rater1_domain2  rater2_domain2  domain2_score      ...       rater2_trait4  \\\n",
       "0             NaN             NaN            NaN      ...                 NaN   \n",
       "1             NaN             NaN            NaN      ...                 NaN   \n",
       "\n",
       "   rater2_trait5  rater2_trait6  rater3_trait1  rater3_trait2  rater3_trait3  \\\n",
       "0            NaN            NaN            NaN            NaN            NaN   \n",
       "1            NaN            NaN            NaN            NaN            NaN   \n",
       "\n",
       "   rater3_trait4  rater3_trait5  rater3_trait6  essay_length  \n",
       "0            NaN            NaN            NaN          1875  \n",
       "1            NaN            NaN            NaN          2288  \n",
       "\n",
       "[2 rows x 29 columns]"
      ]
     },
     "execution_count": 167,
     "metadata": {},
     "output_type": "execute_result"
    }
   ],
   "source": [
    "essay_df.head(2)"
   ]
  },
  {
   "cell_type": "code",
   "execution_count": 171,
   "metadata": {
    "collapsed": false
   },
   "outputs": [],
   "source": [
    "# let's work with Pandas dataframes to make things easier\n",
    "feature_df = pd.DataFrame(essay_vector)"
   ]
  },
  {
   "cell_type": "markdown",
   "metadata": {},
   "source": [
    "### We should also make sure to turn essay prompts into features."
   ]
  },
  {
   "cell_type": "code",
   "execution_count": 10,
   "metadata": {
    "collapsed": true
   },
   "outputs": [],
   "source": [
    "def get_essay_x_y(data):\n",
    "    '''\n",
    "    A helper to separate the response variable (domain1_score) from\n",
    "    the predictors.\n",
    "    '''\n",
    "    y = data[\"domain1_score\"]\n",
    "    X = data.drop(\"domain1_score\", axis=1)\n",
    "    return X, y"
   ]
  },
  {
   "cell_type": "markdown",
   "metadata": {},
   "source": [
    "Let's use the essay set and length too."
   ]
  },
  {
   "cell_type": "code",
   "execution_count": 175,
   "metadata": {
    "collapsed": true
   },
   "outputs": [],
   "source": [
    "feature_df[\"essay_set\"] = essay_df[\"essay_set\"]\n",
    "feature_df[\"essay_length\"] = essay_df[\"essay_length\"]\n",
    "feature_df[\"domain1_score\"] = essay_df[\"domain1_score\"]"
   ]
  },
  {
   "cell_type": "markdown",
   "metadata": {},
   "source": [
    "As we can see, our data is sparse (mostly 0's). We'll need to use a sparse datatype before building any models."
   ]
  },
  {
   "cell_type": "code",
   "execution_count": 30,
   "metadata": {
    "collapsed": false
   },
   "outputs": [
    {
     "name": "stdout",
     "output_type": "stream",
     "text": [
      "(12976, 10020)\n"
     ]
    },
    {
     "data": {
      "text/html": [
       "<div>\n",
       "<table border=\"1\" class=\"dataframe\">\n",
       "  <thead>\n",
       "    <tr style=\"text-align: right;\">\n",
       "      <th></th>\n",
       "      <th>0</th>\n",
       "      <th>1</th>\n",
       "      <th>2</th>\n",
       "      <th>3</th>\n",
       "      <th>4</th>\n",
       "      <th>5</th>\n",
       "      <th>6</th>\n",
       "      <th>7</th>\n",
       "      <th>8</th>\n",
       "      <th>9</th>\n",
       "      <th>...</th>\n",
       "      <th>10010</th>\n",
       "      <th>10011</th>\n",
       "      <th>10012</th>\n",
       "      <th>10013</th>\n",
       "      <th>10014</th>\n",
       "      <th>10015</th>\n",
       "      <th>10016</th>\n",
       "      <th>essay_set</th>\n",
       "      <th>essay_length</th>\n",
       "      <th>domain1_score</th>\n",
       "    </tr>\n",
       "  </thead>\n",
       "  <tbody>\n",
       "    <tr>\n",
       "      <th>0</th>\n",
       "      <td>0.0</td>\n",
       "      <td>0.0</td>\n",
       "      <td>0.0</td>\n",
       "      <td>0.0</td>\n",
       "      <td>0.0</td>\n",
       "      <td>0.0</td>\n",
       "      <td>0.0</td>\n",
       "      <td>0.0</td>\n",
       "      <td>0.0</td>\n",
       "      <td>0.0</td>\n",
       "      <td>...</td>\n",
       "      <td>0.0</td>\n",
       "      <td>0.0</td>\n",
       "      <td>0.0</td>\n",
       "      <td>0.0</td>\n",
       "      <td>0.0</td>\n",
       "      <td>0.0</td>\n",
       "      <td>0.0</td>\n",
       "      <td>1</td>\n",
       "      <td>1875</td>\n",
       "      <td>8</td>\n",
       "    </tr>\n",
       "    <tr>\n",
       "      <th>1</th>\n",
       "      <td>0.0</td>\n",
       "      <td>0.0</td>\n",
       "      <td>0.0</td>\n",
       "      <td>0.0</td>\n",
       "      <td>0.0</td>\n",
       "      <td>0.0</td>\n",
       "      <td>0.0</td>\n",
       "      <td>0.0</td>\n",
       "      <td>0.0</td>\n",
       "      <td>0.0</td>\n",
       "      <td>...</td>\n",
       "      <td>0.0</td>\n",
       "      <td>0.0</td>\n",
       "      <td>0.0</td>\n",
       "      <td>0.0</td>\n",
       "      <td>0.0</td>\n",
       "      <td>0.0</td>\n",
       "      <td>0.0</td>\n",
       "      <td>1</td>\n",
       "      <td>2288</td>\n",
       "      <td>9</td>\n",
       "    </tr>\n",
       "  </tbody>\n",
       "</table>\n",
       "<p>2 rows × 10020 columns</p>\n",
       "</div>"
      ],
      "text/plain": [
       "     0    1    2    3    4    5    6    7    8    9      ...        10010  \\\n",
       "0  0.0  0.0  0.0  0.0  0.0  0.0  0.0  0.0  0.0  0.0      ...          0.0   \n",
       "1  0.0  0.0  0.0  0.0  0.0  0.0  0.0  0.0  0.0  0.0      ...          0.0   \n",
       "\n",
       "   10011  10012  10013  10014  10015  10016  essay_set  essay_length  \\\n",
       "0    0.0    0.0    0.0    0.0    0.0    0.0          1          1875   \n",
       "1    0.0    0.0    0.0    0.0    0.0    0.0          1          2288   \n",
       "\n",
       "   domain1_score  \n",
       "0              8  \n",
       "1              9  \n",
       "\n",
       "[2 rows x 10020 columns]"
      ]
     },
     "execution_count": 30,
     "metadata": {},
     "output_type": "execute_result"
    }
   ],
   "source": [
    "print feature_df.shape\n",
    "feature_df.head(2)"
   ]
  },
  {
   "cell_type": "code",
   "execution_count": 114,
   "metadata": {
    "collapsed": false
   },
   "outputs": [],
   "source": [
    "X, y = get_essay_x_y(feature_df)\n",
    "\n",
    "# make X sparse!\n",
    "X = scipy.sparse.csr_matrix(X)"
   ]
  },
  {
   "cell_type": "markdown",
   "metadata": {},
   "source": [
    "Let's start with a very basic model, using just the essay set and the essay length as predictors."
   ]
  },
  {
   "cell_type": "code",
   "execution_count": 184,
   "metadata": {
    "collapsed": false
   },
   "outputs": [
    {
     "name": "stdout",
     "output_type": "stream",
     "text": [
      "R^2: 0.640701827297\n",
      "Spearman r:  (0.67031481375986735, 0.0)\n"
     ]
    }
   ],
   "source": [
    "X = feature_df[[\"essay_set\", \"essay_length\"]]\n",
    "y = feature_df[\"domain1_score\"]\n",
    "\n",
    "X_train, X_test, y_train, y_test = train_test_split(X, y)\n",
    "\n",
    "ridge = Ridge()\n",
    "ridge.fit(X_train, y_train)\n",
    "print \"R^2:\", ridge.score(X_test, y_test)\n",
    "print \"Spearman r: \", scipy.stats.spearmanr(ridge.predict(X_test), y_test)"
   ]
  },
  {
   "cell_type": "markdown",
   "metadata": {},
   "source": [
    "Just these two features give a Spearman's r of about .68. Let's see if we can do better by including the vectorized text in the predictor set."
   ]
  },
  {
   "cell_type": "markdown",
   "metadata": {
    "collapsed": true
   },
   "source": [
    "## Tuning Lasso and Ridge Models using K-Fold CV\n",
    "\n",
    "Lasso will likely do better here due to the large number of (mostly unimportant) predictors, though we also try Ridge regression just in case."
   ]
  },
  {
   "cell_type": "code",
   "execution_count": 155,
   "metadata": {
    "collapsed": true
   },
   "outputs": [
    {
     "name": "stdout",
     "output_type": "stream",
     "text": [
      "Testing alpha = 0.0001\n",
      "Spearman_r: (0.81311741988677333, 0.0)\n",
      "Spearman_r: (0.80481670399375893, 0.0)\n",
      "Testing alpha = 0.001\n",
      "Spearman_r: (0.80414458560281299, 0.0)\n",
      "Spearman_r: (0.81593205875350039, 0.0)\n",
      "Testing alpha = 0.01\n",
      "Spearman_r: (0.78608949732426192, 0.0)\n",
      "Spearman_r: (0.78293432574089061, 0.0)\n",
      "Testing alpha = 1\n",
      "Spearman_r: (0.67989680678487618, 0.0)\n",
      "Spearman_r: (0.68553150332193868, 0.0)\n"
     ]
    }
   ],
   "source": [
    "lasso_alpha_list = [.0001, .001, .01 , 1]\n",
    "lasso_r2_value = []\n",
    "lasso_spearman_value = []\n",
    "\n",
    "for alpha in lasso_alpha_list: \n",
    "    lasso_r2_temp = []\n",
    "    lasso_spearman_temp = []\n",
    "    \n",
    "    print \"Testing alpha = {0}\".format(alpha)\n",
    "    \n",
    "    # gives us the different folds of our data to test against\n",
    "    folds = KFold(X.shape[0], n_folds=2, shuffle=True)\n",
    "\n",
    "    for train_indices, test_indices in folds:\n",
    "        X_train, X_test = X[train_indices], X[test_indices]\n",
    "        y_train, y_test = y[train_indices], y[test_indices]\n",
    "\n",
    "        lasso = Lasso(alpha=alpha)\n",
    "        \n",
    "        # fit on the training data \n",
    "        lasso.fit(X_train, y_train)\n",
    "        \n",
    "        # calculate r^2\n",
    "        lasso_r2_temp.append(lasso.score(X_test, y_test))\n",
    "        spearman_r = scipy.stats.spearmanr(lasso.predict(X_test), y_test)\n",
    "        print \"Spearman_r:\", spearman_r\n",
    "        lasso_spearman_temp.append(spearman_r)\n",
    "    \n",
    "    lasso_r2_value.append(np.mean(lasso_r2_temp))\n",
    "    lasso_spearman_value.append(np.mean(lasso_spearman_temp))"
   ]
  },
  {
   "cell_type": "code",
   "execution_count": 156,
   "metadata": {
    "collapsed": false
   },
   "outputs": [
    {
     "data": {
      "image/png": "[encoded data removed]",
      "text/plain": [
       "<matplotlib.figure.Figure at 0x10d6a8b50>"
      ]
     },
     "metadata": {},
     "output_type": "display_data"
    }
   ],
   "source": [
    "plt.figure(figsize=(8, 6))\n",
    "plt.semilogx(lasso_alpha_list, lasso_r2_value)\n",
    "\n",
    "best_index = np.argmax(np.array(lasso_r2_value))\n",
    "plt.axvline(lasso_alpha_list[best_index], c='r', label=\"Max R^2 = {0:.3f}\".format(lasso_r2_value[best_index]))\n",
    "\n",
    "plt.title(\"R^2 vs. Alpha for Lasso Regression\") \n",
    "plt.xlabel(\"Alpha Values\")\n",
    "plt.ylabel(\"R^2\")\n",
    "plt.legend()\n",
    "plt.show()"
   ]
  },
  {
   "cell_type": "code",
   "execution_count": 157,
   "metadata": {
    "collapsed": false
   },
   "outputs": [
    {
     "data": {
      "image/png": "[encoded data removed]",
      "text/plain": [
       "<matplotlib.figure.Figure at 0x10cd9ed10>"
      ]
     },
     "metadata": {},
     "output_type": "display_data"
    }
   ],
   "source": [
    "plt.figure(figsize=(8, 6))\n",
    "plt.semilogx(lasso_alpha_list, lasso_spearman_value)\n",
    "\n",
    "best_index = np.argmax(np.array(lasso_spearman_value))\n",
    "plt.axvline(lasso_alpha_list[best_index], linewidth=10, c='r', label=\"Max Spearman = {0:.3f}\".format(lasso_spearman_value[best_index]))\n",
    "\n",
    "plt.title(\"Spearman vs. Alpha for Lasso Regression\") \n",
    "plt.xlabel(\"Alpha Values\")\n",
    "plt.ylabel(\"Spearman\")\n",
    "plt.legend()\n",
    "plt.show()"
   ]
  },
  {
   "cell_type": "markdown",
   "metadata": {},
   "source": [
    "### Tuning a Ridge Model via sklearn.linear_model.Ridge"
   ]
  },
  {
   "cell_type": "code",
   "execution_count": 138,
   "metadata": {
    "collapsed": true
   },
   "outputs": [
    {
     "name": "stdout",
     "output_type": "stream",
     "text": [
      "Testing alpha = 0.0001\n",
      "Testing a fold...\n",
      "Testing a fold...\n",
      "Testing alpha = 0.001\n",
      "Testing a fold...\n",
      "Testing a fold...\n",
      "Testing alpha = 0.01\n",
      "Testing a fold...\n",
      "Testing a fold...\n",
      "Testing alpha = 0.1\n",
      "Testing a fold...\n",
      "Testing a fold...\n",
      "Testing alpha = 1\n",
      "Testing a fold...\n",
      "Testing a fold...\n",
      "Testing alpha = 10\n",
      "Testing a fold...\n",
      "Testing a fold...\n",
      "Testing alpha = 100\n",
      "Testing a fold...\n",
      "Testing a fold...\n"
     ]
    }
   ],
   "source": [
    "alpha_list = [.0001, .001, .01, .1, 1, 10, 100]\n",
    "ridge_r2_value = []\n",
    "ridge_spearman_value = []\n",
    "\n",
    "for alpha in alpha_list: \n",
    "    ridge_r2_temp = []\n",
    "    ridge_spearman_temp = []\n",
    "    \n",
    "    print \"Testing alpha = {0}\".format(alpha)\n",
    "    \n",
    "    # gives us the different folds of our data to test against\n",
    "    folds = KFold(X.shape[0], n_folds=2, shuffle=True)\n",
    "\n",
    "    for train_indices, test_indices in folds:\n",
    "        print \"Testing a fold...\"\n",
    "        X_train, X_test = X[train_indices], X[test_indices]\n",
    "        y_train, y_test = y[train_indices], y[test_indices]\n",
    "\n",
    "        ridge = Ridge(alpha=alpha, solver=\"sag\")\n",
    "        \n",
    "        # fit on the training data \n",
    "        ridge.fit(X_train, y_train)\n",
    "        \n",
    "        # calculate r^2\n",
    "        ridge_r2_temp.append(ridge.score(X_test, y_test))\n",
    "        ridge_spearman_temp.append(scipy.stats.spearmanr(ridge.predict(X_test), y_test))\n",
    "    \n",
    "    ridge_r2_value.append(np.mean(ridge_r2_temp))\n",
    "    ridge_spearman_value.append(np.mean(ridge_spearman_temp))"
   ]
  },
  {
   "cell_type": "code",
   "execution_count": 139,
   "metadata": {
    "collapsed": false,
    "scrolled": true
   },
   "outputs": [
    {
     "data": {
      "image/png": "[encoded data removed]",
      "text/plain": [
       "<matplotlib.figure.Figure at 0x10ce06d10>"
      ]
     },
     "metadata": {},
     "output_type": "display_data"
    }
   ],
   "source": [
    "plt.figure(figsize=(8, 6))\n",
    "plt.semilogx(alpha_list, ridge_r2_value)\n",
    "\n",
    "best_index = np.argmax(np.array(ridge_r2_value))\n",
    "plt.axvline(alpha_list[best_index], c='r', label=\"Max R^2 = {0:.3f}\".format(ridge_r2_value[best_index]))\n",
    "\n",
    "plt.title(\"R^2 vs. Alpha for Ridge Regression\") \n",
    "plt.xlabel(\"Alpha Values\")\n",
    "plt.ylabel(\"R^2\")\n",
    "plt.legend()\n",
    "plt.show()"
   ]
  },
  {
   "cell_type": "code",
   "execution_count": 154,
   "metadata": {
    "collapsed": false
   },
   "outputs": [
    {
     "data": {
      "image/png": "[encoded data removed]",
      "text/plain": [
       "<matplotlib.figure.Figure at 0x10ce95ad0>"
      ]
     },
     "metadata": {},
     "output_type": "display_data"
    }
   ],
   "source": [
    "plt.figure(figsize=(8, 6))\n",
    "plt.semilogx(alpha_list, ridge_spearman_value)\n",
    "\n",
    "best_index = np.argmax(np.array(ridge_spearman_value))\n",
    "plt.axvline(alpha_list[best_index], linewidth=10, c='r', label=\"Max Spearman = {0:.3f}\".format(ridge_spearman_value[best_index]))\n",
    "\n",
    "plt.title(\"Spearman vs. Alpha for Ridge Regression\") \n",
    "plt.xlabel(\"Alpha Values\")\n",
    "plt.ylabel(\"Spearman\")\n",
    "plt.legend()\n",
    "plt.show()"
   ]
  },
  {
   "cell_type": "code",
   "execution_count": 198,
   "metadata": {
    "collapsed": true
   },
   "outputs": [
    {
     "name": "stdout",
     "output_type": "stream",
     "text": [
      "Testing alpha = 0.001\n",
      "Testing a fold...\n",
      "Testing a fold...\n",
      "Testing alpha = 0.01\n",
      "Testing a fold...\n",
      "Testing a fold...\n",
      "Testing alpha = 0.1\n",
      "Testing a fold...\n",
      "Testing a fold...\n",
      "Testing alpha = 1\n",
      "Testing a fold...\n",
      "Testing a fold...\n",
      "Testing alpha = 10\n",
      "Testing a fold...\n",
      "Testing a fold...\n"
     ]
    }
   ],
   "source": [
    "alpha_list = [.001, .01, .1, 1, 10]\n",
    "svm_r2_value = []\n",
    "svm_spearman_value = []\n",
    "\n",
    "for alpha in alpha_list: \n",
    "    svm_r2_temp = []\n",
    "    svm_spearman_temp = []\n",
    "    \n",
    "    print \"Testing alpha = {0}\".format(alpha)\n",
    "    \n",
    "    # gives us the different folds of our data to test against\n",
    "    folds = KFold(X.shape[0], n_folds=2, shuffle=True)\n",
    "\n",
    "    for train_indices, test_indices in folds:\n",
    "        print \"Testing a fold...\"\n",
    "        X_train, X_test = X[train_indices], X[test_indices]\n",
    "        y_train, y_test = y[train_indices], y[test_indices]\n",
    "\n",
    "        svm_model = svm.SVR(C=alpha)\n",
    "        \n",
    "        # fit on the training data \n",
    "        svm_model.fit(X_train, y_train)\n",
    "        \n",
    "        # calculate r^2\n",
    "        svm_r2_temp.append(svm_model.score(X_test, y_test))\n",
    "        svm_spearman_temp.append(scipy.stats.spearmanr(svm_model.predict(X_test), y_test))\n",
    "    \n",
    "    svm_r2_value.append(np.mean(svm_r2_temp))\n",
    "    svm_spearman_value.append(np.mean(svm_spearman_temp))"
   ]
  },
  {
   "cell_type": "code",
   "execution_count": 203,
   "metadata": {
    "collapsed": false
   },
   "outputs": [
    {
     "data": {
      "image/png": "[encoded data removed]",
      "text/plain": [
       "<matplotlib.figure.Figure at 0x10cf6eb50>"
      ]
     },
     "metadata": {},
     "output_type": "display_data"
    }
   ],
   "source": [
    "plt.figure(figsize=(8, 6))\n",
    "plt.semilogx(alpha_list, svm_r2_value)\n",
    "\n",
    "best_index = np.argmax(np.array(svm_r2_value))\n",
    "plt.axvline(alpha_list[best_index], c='r', linewidth=10, label=\"Max R^2 = {0:.3f}\".format(svm_r2_value[best_index]))\n",
    "\n",
    "plt.title(\"R^2 vs. Alpha for SVM Regression\") \n",
    "plt.xlabel(\"Alpha Values\")\n",
    "plt.ylabel(\"R^2\")\n",
    "plt.legend(loc=\"upper left\")\n",
    "plt.show()"
   ]
  },
  {
   "cell_type": "code",
   "execution_count": 200,
   "metadata": {
    "collapsed": false
   },
   "outputs": [
    {
     "data": {
      "image/png": "[encoded data removed]",
      "text/plain": [
       "<matplotlib.figure.Figure at 0x10d77bf10>"
      ]
     },
     "metadata": {},
     "output_type": "display_data"
    }
   ],
   "source": [
    "plt.figure(figsize=(8, 6))\n",
    "plt.semilogx(alpha_list, svm_spearman_value)\n",
    "\n",
    "best_index = np.argmax(np.array(svm_spearman_value))\n",
    "plt.axvline(alpha_list[best_index], linewidth=10, c='r', label=\"Max Spearman = {0:.3f}\".format(svm_spearman_value[best_index]))\n",
    "\n",
    "plt.title(\"Spearman vs. Alpha for SVM Regression\") \n",
    "plt.xlabel(\"Alpha Values\")\n",
    "plt.ylabel(\"Spearman\")\n",
    "plt.legend()\n",
    "plt.show()"
   ]
  },
  {
   "cell_type": "markdown",
   "metadata": {},
   "source": [
    "# Bare Model"
   ]
  },
  {
   "cell_type": "code",
   "execution_count": 209,
   "metadata": {
    "collapsed": false
   },
   "outputs": [
    {
     "name": "stdout",
     "output_type": "stream",
     "text": [
      "R^2 of bare model: 0.650051117756\n",
      "Spearman's r of bare model: 0.330162252167\n"
     ]
    }
   ],
   "source": [
    "r2_value = []\n",
    "spearman_value = []\n",
    "\n",
    "X = feature_df[[\"essay_set\", \"essay_length\"]]\n",
    "y = feature_df[\"domain1_score\"]\n",
    "\n",
    "# gives us the different folds of our data to test against\n",
    "folds = KFold(X.shape[0], n_folds=5, shuffle=True)\n",
    "\n",
    "for train_indices, test_indices in folds:\n",
    "    X_train, X_test = X.ix[train_indices], X.ix[test_indices]\n",
    "    y_train, y_test = y.ix[train_indices], y.ix[test_indices]\n",
    "\n",
    "    linreg = LinearRegression()\n",
    "\n",
    "    # fit on the training data \n",
    "    linreg.fit(X_train, y_train)\n",
    "    \n",
    "    r2_value.append(linreg.score(X_test, y_test))\n",
    "    spearman_value.append(scipy.stats.spearmanr(linreg.predict(X_test), y_test))\n",
    "\n",
    "r2 = np.mean(r2_value)\n",
    "spearman = np.mean(spearman_value)\n",
    "\n",
    "print \"R^2 of bare model:\", r2\n",
    "print \"Spearman's r of bare model:\", spearman"
   ]
  },
  {
   "cell_type": "markdown",
   "metadata": {},
   "source": [
    "### Let's also see how certain models stand up to a normal train-test split, absent of CV."
   ]
  },
  {
   "cell_type": "code",
   "execution_count": 188,
   "metadata": {
    "collapsed": false
   },
   "outputs": [],
   "source": [
    "X_train, X_test, y_train, y_test = train_test_split(X, y)"
   ]
  },
  {
   "cell_type": "markdown",
   "metadata": {},
   "source": [
    "# Bare Model"
   ]
  },
  {
   "cell_type": "code",
   "execution_count": 206,
   "metadata": {
    "collapsed": false
   },
   "outputs": [
    {
     "name": "stdout",
     "output_type": "stream",
     "text": [
      "R^2: 0.653271824735\n",
      "Spearman r:  (0.68366943954683423, 0.0)\n"
     ]
    }
   ],
   "source": [
    "X = feature_df[[\"essay_set\", \"essay_length\"]]\n",
    "y = feature_df[\"domain1_score\"]\n",
    "\n",
    "X_train, X_test, y_train, y_test = train_test_split(X, y)\n",
    "\n",
    "ridge = Lasso()\n",
    "ridge.fit(X_train, y_train)\n",
    "print \"R^2:\", ridge.score(X_test, y_test)\n",
    "print \"Spearman r: \", scipy.stats.spearmanr(ridge.predict(X_test), y_test)"
   ]
  },
  {
   "cell_type": "markdown",
   "metadata": {},
   "source": [
    "# Lasso"
   ]
  },
  {
   "cell_type": "code",
   "execution_count": 189,
   "metadata": {
    "collapsed": false
   },
   "outputs": [
    {
     "name": "stdout",
     "output_type": "stream",
     "text": [
      "R^2: 0.636721861209\n",
      "Spearman r:  (0.64854890783351926, 0.0)\n"
     ]
    }
   ],
   "source": [
    "lasso = Lasso(alpha=10**-3)\n",
    "lasso = lasso.fit(X_train, y_train)\n",
    "print \"R^2:\", lasso.score(X_test, y_test)\n",
    "print \"Spearman r: \", scipy.stats.spearmanr(lasso.predict(X_test), y_test)"
   ]
  },
  {
   "cell_type": "markdown",
   "metadata": {},
   "source": [
    "# Ridge"
   ]
  },
  {
   "cell_type": "code",
   "execution_count": 204,
   "metadata": {
    "collapsed": false
   },
   "outputs": [
    {
     "name": "stdout",
     "output_type": "stream",
     "text": [
      "R^2: 0.118736443371\n",
      "Spearman r:  (0.68856585567144157, 0.0)\n"
     ]
    }
   ],
   "source": [
    "ridge = Ridge(alpha=10**2, solver=\"sag\")\n",
    "ridge = ridge.fit(X_train, y_train)\n",
    "print \"R^2:\", ridge.score(X_test, y_test)\n",
    "print \"Spearman r: \", scipy.stats.spearmanr(ridge.predict(X_test), y_test)"
   ]
  },
  {
   "cell_type": "markdown",
   "metadata": {},
   "source": [
    "# SVM"
   ]
  },
  {
   "cell_type": "code",
   "execution_count": 191,
   "metadata": {
    "collapsed": false
   },
   "outputs": [
    {
     "name": "stdout",
     "output_type": "stream",
     "text": [
      "R^2: 0.0403851167403\n",
      "Spearman r:  (0.83159250533037232, 0.0)\n"
     ]
    }
   ],
   "source": [
    "svr = svm.SVR()\n",
    "svr.fit(X_train, y_train)\n",
    "print \"R^2:\", svr.score(X_test, y_test)\n",
    "print \"Spearman r: \", scipy.stats.spearmanr(svr.predict(X_test), y_test)"
   ]
  },
  {
   "cell_type": "markdown",
   "metadata": {},
   "source": [
    "# Reflections"
   ]
  },
  {
   "cell_type": "markdown",
   "metadata": {},
   "source": [
    "Here is a summary of our CV-results:\n",
    "    - Ridge (R^2 = .122, Spearman's r = .344)\n",
    "    - Lasso (R^2 = .919, Spearman's r = .415)\n",
    "    - SVM (R^2 = .288, Spearman's r = .368)\n",
    "    - Bare Model (R^2 = .65, Spearman's r = 0.33)\n",
    "\n",
    "While we normally look at R^2 to judge a model's accuracy, note that R^2 just tells us about the linear relationship between our prdeictors and our response. Thus, it's more informative to look at Spearman's r to see just how much the predictons match the actual y values.\n",
    "\n",
    "As expected, Lasso does best when using cross validation (Spearman's r = .415).\n",
    "\n",
    "Overall, it looks like our SVM model is also doing really well. This seems to align with what we see in the literature that SVM is a powerful predictor of bag-of-n-gram models."
   ]
  },
  {
   "cell_type": "markdown",
   "metadata": {},
   "source": [
    "## Milestone #5: Next Steps, Experimenting"
   ]
  },
  {
   "cell_type": "markdown",
   "metadata": {},
   "source": [
    "### Let's try using ngrams of size 2"
   ]
  },
  {
   "cell_type": "code",
   "execution_count": 7,
   "metadata": {
    "collapsed": true
   },
   "outputs": [],
   "source": [
    "vectorizer = TfidfVectorizer(stop_words=\"english\", min_df=4, decode_error=\"ignore\", ngram_range=(1, 2))\n",
    "corpus = essay_df[\"essay\"].values\n",
    "essay_vector = vectorizer.fit_transform(corpus)\n",
    "essay_vector = essay_vector.toarray()\n",
    "\n",
    "essay_df[\"essay_length\"] = map(len, essay_df[\"essay\"])"
   ]
  },
  {
   "cell_type": "code",
   "execution_count": 8,
   "metadata": {
    "collapsed": true
   },
   "outputs": [],
   "source": [
    "feature_df = pd.DataFrame(essay_vector)\n",
    "feature_df[\"essay_set\"] = essay_df[\"essay_set\"]\n",
    "feature_df[\"essay_length\"] = essay_df[\"essay_length\"]\n",
    "feature_df[\"domain1_score\"] = essay_df[\"domain1_score\"]"
   ]
  },
  {
   "cell_type": "code",
   "execution_count": 11,
   "metadata": {
    "collapsed": false
   },
   "outputs": [],
   "source": [
    "X, y = get_essay_x_y(feature_df)\n",
    "\n",
    "# make X sparse!\n",
    "X = scipy.sparse.csr_matrix(X)"
   ]
  },
  {
   "cell_type": "code",
   "execution_count": 12,
   "metadata": {
    "collapsed": false
   },
   "outputs": [
    {
     "name": "stdout",
     "output_type": "stream",
     "text": [
      "R^2: 0.633313252677\n",
      "Spearman r:  (0.68158167383186807, 0.0)\n"
     ]
    }
   ],
   "source": [
    "X_train, X_test, y_train, y_test = train_test_split(X, y)\n",
    "\n",
    "lasso = Lasso()\n",
    "lasso.fit(X_train, y_train)\n",
    "print \"R^2:\", lasso.score(X_test, y_test)\n",
    "print \"Spearman r: \", scipy.stats.spearmanr(lasso.predict(X_test), y_test)"
   ]
  },
  {
   "cell_type": "markdown",
   "metadata": {},
   "source": [
    "Interesting! It seems as if the lasso model that includes n_grams of size 2 (bigrams) does a little bit better than the lasso model with unigrams (compare this Spearman's r of .68 to the train-test-split Spearman's r of .64). That said, the Spearman r here is only .04 better than the unigram model, so we might choose to just include unigrams in order to maintain a more parsimonious model. This is definitely something that we'll explore in the next milestone!\n",
    "\n",
    "We should also try incorporating prompt features into the model, which might add some signal.\n",
    "\n",
    "Another question to consider is whether or not to use models that predict only discrete values instead of continuous ones. It doesn't make sense to predict an essay score as 6.4 when essay scores can either be 6 or 7, so maybe a better model will take that into account.\n",
    "\n",
    "Also, it might make sense to try building models separately for each data set. The reason is that the scoring guidelines are different for each model. This is definitely something we should consider for the next round of work."
   ]
  }
 ],
 "metadata": {
  "kernelspec": {
   "display_name": "Python 2",
   "language": "python",
   "name": "python2"
  },
  "language_info": {
   "codemirror_mode": {
    "name": "ipython",
    "version": 2
   },
   "file_extension": ".py",
   "mimetype": "text/x-python",
   "name": "python",
   "nbconvert_exporter": "python",
   "pygments_lexer": "ipython2",
   "version": "2.7.10"
  }
 },
 "nbformat": 4,
 "nbformat_minor": 1
}
