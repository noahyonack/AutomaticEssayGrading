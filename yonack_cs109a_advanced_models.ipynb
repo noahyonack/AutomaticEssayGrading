{
 "cells": [
  {
   "cell_type": "code",
   "execution_count": 12,
   "metadata": {
    "collapsed": false
   },
   "outputs": [],
   "source": [
    "import matplotlib\n",
    "import numpy as np\n",
    "import pandas as pd\n",
    "import matplotlib.pyplot as plt\n",
    "from sklearn.feature_extraction.text import TfidfVectorizer\n",
    "from sklearn.linear_model import LinearRegression\n",
    "from sklearn.decomposition import PCA, SparsePCA\n",
    "from sklearn.cross_validation import KFold, train_test_split\n",
    "from sklearn.linear_model import Lasso, Ridge, SGDRegressor\n",
    "from sklearn.decomposition import TruncatedSVD\n",
    "from scipy.stats import spearmanr\n",
    "import sklearn.svm as svm\n",
    "import scipy.sparse\n",
    "%matplotlib inline"
   ]
  },
  {
   "cell_type": "code",
   "execution_count": 2,
   "metadata": {
    "collapsed": false
   },
   "outputs": [
    {
     "name": "stdout",
     "output_type": "stream",
     "text": [
      "(12976, 28)\n"
     ]
    },
    {
     "data": {
      "text/html": [
       "<div>\n",
       "<table border=\"1\" class=\"dataframe\">\n",
       "  <thead>\n",
       "    <tr style=\"text-align: right;\">\n",
       "      <th></th>\n",
       "      <th>essay_id</th>\n",
       "      <th>essay_set</th>\n",
       "      <th>essay</th>\n",
       "      <th>rater1_domain1</th>\n",
       "      <th>rater2_domain1</th>\n",
       "      <th>rater3_domain1</th>\n",
       "      <th>domain1_score</th>\n",
       "      <th>rater1_domain2</th>\n",
       "      <th>rater2_domain2</th>\n",
       "      <th>domain2_score</th>\n",
       "      <th>...</th>\n",
       "      <th>rater2_trait3</th>\n",
       "      <th>rater2_trait4</th>\n",
       "      <th>rater2_trait5</th>\n",
       "      <th>rater2_trait6</th>\n",
       "      <th>rater3_trait1</th>\n",
       "      <th>rater3_trait2</th>\n",
       "      <th>rater3_trait3</th>\n",
       "      <th>rater3_trait4</th>\n",
       "      <th>rater3_trait5</th>\n",
       "      <th>rater3_trait6</th>\n",
       "    </tr>\n",
       "  </thead>\n",
       "  <tbody>\n",
       "    <tr>\n",
       "      <th>0</th>\n",
       "      <td>1</td>\n",
       "      <td>1</td>\n",
       "      <td>Dear local newspaper, I think effects computer...</td>\n",
       "      <td>4</td>\n",
       "      <td>4</td>\n",
       "      <td>NaN</td>\n",
       "      <td>8</td>\n",
       "      <td>NaN</td>\n",
       "      <td>NaN</td>\n",
       "      <td>NaN</td>\n",
       "      <td>...</td>\n",
       "      <td>NaN</td>\n",
       "      <td>NaN</td>\n",
       "      <td>NaN</td>\n",
       "      <td>NaN</td>\n",
       "      <td>NaN</td>\n",
       "      <td>NaN</td>\n",
       "      <td>NaN</td>\n",
       "      <td>NaN</td>\n",
       "      <td>NaN</td>\n",
       "      <td>NaN</td>\n",
       "    </tr>\n",
       "    <tr>\n",
       "      <th>1</th>\n",
       "      <td>2</td>\n",
       "      <td>1</td>\n",
       "      <td>Dear @CAPS1 @CAPS2, I believe that using compu...</td>\n",
       "      <td>5</td>\n",
       "      <td>4</td>\n",
       "      <td>NaN</td>\n",
       "      <td>9</td>\n",
       "      <td>NaN</td>\n",
       "      <td>NaN</td>\n",
       "      <td>NaN</td>\n",
       "      <td>...</td>\n",
       "      <td>NaN</td>\n",
       "      <td>NaN</td>\n",
       "      <td>NaN</td>\n",
       "      <td>NaN</td>\n",
       "      <td>NaN</td>\n",
       "      <td>NaN</td>\n",
       "      <td>NaN</td>\n",
       "      <td>NaN</td>\n",
       "      <td>NaN</td>\n",
       "      <td>NaN</td>\n",
       "    </tr>\n",
       "  </tbody>\n",
       "</table>\n",
       "<p>2 rows × 28 columns</p>\n",
       "</div>"
      ],
      "text/plain": [
       "   essay_id  essay_set                                              essay  \\\n",
       "0         1          1  Dear local newspaper, I think effects computer...   \n",
       "1         2          1  Dear @CAPS1 @CAPS2, I believe that using compu...   \n",
       "\n",
       "   rater1_domain1  rater2_domain1  rater3_domain1  domain1_score  \\\n",
       "0               4               4             NaN              8   \n",
       "1               5               4             NaN              9   \n",
       "\n",
       "   rater1_domain2  rater2_domain2  domain2_score      ...        \\\n",
       "0             NaN             NaN            NaN      ...         \n",
       "1             NaN             NaN            NaN      ...         \n",
       "\n",
       "   rater2_trait3  rater2_trait4  rater2_trait5  rater2_trait6  rater3_trait1  \\\n",
       "0            NaN            NaN            NaN            NaN            NaN   \n",
       "1            NaN            NaN            NaN            NaN            NaN   \n",
       "\n",
       "   rater3_trait2  rater3_trait3  rater3_trait4  rater3_trait5  rater3_trait6  \n",
       "0            NaN            NaN            NaN            NaN            NaN  \n",
       "1            NaN            NaN            NaN            NaN            NaN  \n",
       "\n",
       "[2 rows x 28 columns]"
      ]
     },
     "execution_count": 2,
     "metadata": {},
     "output_type": "execute_result"
    }
   ],
   "source": [
    "essay_df = pd.read_csv(\"datasets/training_set_rel3.tsv\", delimiter=\"\\t\")\n",
    "print essay_df.shape\n",
    "essay_df.head(2)"
   ]
  },
  {
   "cell_type": "code",
   "execution_count": 3,
   "metadata": {
    "collapsed": false
   },
   "outputs": [
    {
     "data": {
      "text/html": [
       "<div>\n",
       "<table border=\"1\" class=\"dataframe\">\n",
       "  <thead>\n",
       "    <tr style=\"text-align: right;\">\n",
       "      <th></th>\n",
       "      <th>essay_set</th>\n",
       "      <th>prompt_text</th>\n",
       "    </tr>\n",
       "  </thead>\n",
       "  <tbody>\n",
       "    <tr>\n",
       "      <th>0</th>\n",
       "      <td>1</td>\n",
       "      <td>More and more people use computers, but not ev...</td>\n",
       "    </tr>\n",
       "    <tr>\n",
       "      <th>1</th>\n",
       "      <td>2</td>\n",
       "      <td>All of us can think of a book that we hope non...</td>\n",
       "    </tr>\n",
       "    <tr>\n",
       "      <th>2</th>\n",
       "      <td>3</td>\n",
       "      <td>Write a response that explains how the feature...</td>\n",
       "    </tr>\n",
       "    <tr>\n",
       "      <th>3</th>\n",
       "      <td>4</td>\n",
       "      <td>When they come back, Saeng vowed silently to h...</td>\n",
       "    </tr>\n",
       "    <tr>\n",
       "      <th>4</th>\n",
       "      <td>5</td>\n",
       "      <td>Describe the mood created by the author in the...</td>\n",
       "    </tr>\n",
       "    <tr>\n",
       "      <th>5</th>\n",
       "      <td>6</td>\n",
       "      <td>Based on the excerpt, describe the obstacles t...</td>\n",
       "    </tr>\n",
       "    <tr>\n",
       "      <th>6</th>\n",
       "      <td>7</td>\n",
       "      <td>Write about patience. Being patient means that...</td>\n",
       "    </tr>\n",
       "    <tr>\n",
       "      <th>7</th>\n",
       "      <td>8</td>\n",
       "      <td>\"If you want a place in the sun, you will have...</td>\n",
       "    </tr>\n",
       "  </tbody>\n",
       "</table>\n",
       "</div>"
      ],
      "text/plain": [
       "   essay_set                                        prompt_text\n",
       "0          1  More and more people use computers, but not ev...\n",
       "1          2  All of us can think of a book that we hope non...\n",
       "2          3  Write a response that explains how the feature...\n",
       "3          4  When they come back, Saeng vowed silently to h...\n",
       "4          5  Describe the mood created by the author in the...\n",
       "5          6  Based on the excerpt, describe the obstacles t...\n",
       "6          7  Write about patience. Being patient means that...\n",
       "7          8  \"If you want a place in the sun, you will have..."
      ]
     },
     "execution_count": 3,
     "metadata": {},
     "output_type": "execute_result"
    }
   ],
   "source": [
    "prompts_df = pd.read_csv(\"prompts.csv\")\n",
    "prompts_df.rename(columns={\"prompt\":\"essay_set\", \"text\":\"prompt_text\"}, inplace=True)\n",
    "prompts_df"
   ]
  },
  {
   "cell_type": "code",
   "execution_count": 4,
   "metadata": {
    "collapsed": false
   },
   "outputs": [],
   "source": [
    "essay_df = essay_df.join(prompts_df.set_index(\"essay_set\"), on=\"essay_set\", how=\"inner\")"
   ]
  },
  {
   "cell_type": "code",
   "execution_count": 5,
   "metadata": {
    "collapsed": true
   },
   "outputs": [],
   "source": [
    "vectorizer = TfidfVectorizer(stop_words=\"english\", min_df=4, decode_error=\"ignore\", ngram_range=(1, 1))\n",
    "corpus = essay_df[\"essay\"].values + essay_df[\"prompt_text\"].values\n",
    "sparse_essay_vector = vectorizer.fit_transform(corpus)"
   ]
  },
  {
   "cell_type": "code",
   "execution_count": 6,
   "metadata": {
    "collapsed": false
   },
   "outputs": [
    {
     "data": {
      "text/plain": [
       "((12976, 10100), scipy.sparse.csr.csr_matrix)"
      ]
     },
     "execution_count": 6,
     "metadata": {},
     "output_type": "execute_result"
    }
   ],
   "source": [
    "sparse_essay_vector.shape, type(sparse_essay_vector)"
   ]
  },
  {
   "cell_type": "code",
   "execution_count": 7,
   "metadata": {
    "collapsed": false
   },
   "outputs": [],
   "source": [
    "essay_df[\"essay_length\"] = map(len, essay_df[\"essay\"])\n",
    "sparse_essay_length = scipy.sparse.csc_matrix(essay_df[\"essay_length\"]).transpose()\n",
    "sparse_essay_set = scipy.sparse.csc_matrix(essay_df[\"essay_set\"]).transpose()"
   ]
  },
  {
   "cell_type": "code",
   "execution_count": 8,
   "metadata": {
    "collapsed": false
   },
   "outputs": [],
   "source": [
    "X = scipy.sparse.hstack([sparse_essay_vector, sparse_essay_length, sparse_essay_set], format=\"csr\")\n",
    "y = essay_df[\"domain1_score\"]"
   ]
  },
  {
   "cell_type": "code",
   "execution_count": 9,
   "metadata": {
    "collapsed": false
   },
   "outputs": [
    {
     "name": "stdout",
     "output_type": "stream",
     "text": [
      "Testing alpha = 0.0001\n"
     ]
    },
    {
     "name": "stderr",
     "output_type": "stream",
     "text": [
      "/Users/Stephen/anaconda/lib/python2.7/site-packages/sklearn/linear_model/coordinate_descent.py:466: ConvergenceWarning: Objective did not converge. You might want to increase the number of iterations\n",
      "  ConvergenceWarning)\n"
     ]
    },
    {
     "name": "stdout",
     "output_type": "stream",
     "text": [
      "Spearman_r: SpearmanrResult(correlation=0.87863148191095586, pvalue=0.0)\n",
      "Spearman_r: SpearmanrResult(correlation=0.87058364137816246, pvalue=0.0)\n",
      "Testing alpha = 0.001\n",
      "Spearman_r: SpearmanrResult(correlation=0.87911528457118593, pvalue=0.0)\n",
      "Spearman_r: SpearmanrResult(correlation=0.88204723282229069, pvalue=0.0)\n",
      "Testing alpha = 0.01\n",
      "Spearman_r: SpearmanrResult(correlation=0.84515980332243024, pvalue=0.0)\n",
      "Spearman_r: SpearmanrResult(correlation=0.85100166680382117, pvalue=0.0)\n",
      "Testing alpha = 1\n",
      "Spearman_r: SpearmanrResult(correlation=0.68342485407723919, pvalue=0.0)\n",
      "Spearman_r: SpearmanrResult(correlation=0.68231220062270526, pvalue=0.0)\n"
     ]
    }
   ],
   "source": [
    "lasso_alpha_list = [.0001, .001, .01 , 1]\n",
    "lasso_r2_value = []\n",
    "lasso_spearman_value = []\n",
    "\n",
    "for alpha in lasso_alpha_list: \n",
    "    lasso_r2_temp = []\n",
    "    lasso_spearman_temp = []\n",
    "    \n",
    "    print \"Testing alpha = {0}\".format(alpha)\n",
    "    \n",
    "    # gives us the different folds of our data to test against\n",
    "    folds = KFold(X.shape[0], n_folds=2, shuffle=True)\n",
    "\n",
    "    for train_indices, test_indices in folds:\n",
    "        X_train, X_test = X[train_indices], X[test_indices]\n",
    "        y_train, y_test = y[train_indices], y[test_indices]\n",
    "\n",
    "        lasso = Lasso(alpha=alpha)\n",
    "        \n",
    "        # fit on the training data \n",
    "        lasso.fit(X_train, y_train)\n",
    "        \n",
    "        # calculate r^2\n",
    "        lasso_r2_temp.append(lasso.score(X_test, y_test))\n",
    "        spearman_r = scipy.stats.spearmanr(lasso.predict(X_test), y_test)\n",
    "        print \"Spearman_r:\", spearman_r\n",
    "        lasso_spearman_temp.append(spearman_r)\n",
    "    \n",
    "    lasso_r2_value.append(np.mean(lasso_r2_temp))\n",
    "    lasso_spearman_value.append(np.mean(lasso_spearman_temp))"
   ]
  },
  {
   "cell_type": "code",
   "execution_count": 16,
   "metadata": {
    "collapsed": false
   },
   "outputs": [
    {
     "data": {
      "text/plain": [
       "array([[  1.87499838e+03,   2.86902956e+00,   8.10354954e-02, ...,\n",
       "         -2.41169457e-02,   4.65674030e-02,   1.60427051e-02],\n",
       "       [  2.28799756e+03,  -2.75691780e-01,   5.25138051e-02, ...,\n",
       "          2.20408186e-02,   7.93554556e-03,   8.77970755e-03],\n",
       "       [  1.54099904e+03,   2.80318560e+00,   1.79456141e-01, ...,\n",
       "          5.78922471e-03,   1.91167474e-03,   1.29736736e-03],\n",
       "       ..., \n",
       "       [  4.59700682e+03,  -5.69673289e+00,  -3.78473821e-03, ...,\n",
       "          1.91415051e-02,   1.67909001e-02,   8.60195339e-03],\n",
       "       [  3.08500977e+03,  -6.27749510e+00,   2.06566430e-01, ...,\n",
       "         -5.86594122e-03,   6.49595864e-03,  -2.93683986e-02],\n",
       "       [  2.52601088e+03,  -4.67795080e+00,  -1.79155250e-01, ...,\n",
       "         -5.38256431e-03,   4.88140024e-03,  -6.77888514e-03]])"
      ]
     },
     "execution_count": 16,
     "metadata": {},
     "output_type": "execute_result"
    }
   ],
   "source": [
    "lsa = TruncatedSVD(n_components = 100)\n",
    "lsa = lsa.fit_transform(X)"
   ]
  },
  {
   "cell_type": "code",
   "execution_count": 18,
   "metadata": {
    "collapsed": false
   },
   "outputs": [
    {
     "data": {
      "text/plain": [
       "(12976, 100)"
      ]
     },
     "execution_count": 18,
     "metadata": {},
     "output_type": "execute_result"
    }
   ],
   "source": []
  },
  {
   "cell_type": "code",
   "execution_count": null,
   "metadata": {
    "collapsed": true
   },
   "outputs": [],
   "source": []
  }
 ],
 "metadata": {
  "kernelspec": {
   "display_name": "Python 2",
   "language": "python",
   "name": "python2"
  },
  "language_info": {
   "codemirror_mode": {
    "name": "ipython",
    "version": 2
   },
   "file_extension": ".py",
   "mimetype": "text/x-python",
   "name": "python",
   "nbconvert_exporter": "python",
   "pygments_lexer": "ipython2",
   "version": "2.7.12"
  }
 },
 "nbformat": 4,
 "nbformat_minor": 1
}
